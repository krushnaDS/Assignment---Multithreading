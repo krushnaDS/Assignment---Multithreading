{
 "cells": [
  {
   "cell_type": "code",
   "execution_count": 2,
   "id": "24e408e4-6b02-4464-b00c-75f66e071592",
   "metadata": {},
   "outputs": [
    {
     "data": {
      "text/plain": [
       "'Q1. What is multithreading in python? why is it used? Name the module used to handle threads in python.\\n\\nMultithreading is defined as the ability of a processor to execute multiple threads concurrently. \\nIn a simple, single-core CPU, it is achieved using frequent switching between threads. Multithreading \\nmainly used for faster execution and multitasking.\\nthreading module is used for creating, controlling and managing threads in python.\\nThe threading module, has a Thread class that is used for implementing threads, and that class also contains some predefined methods used by programmers in multi-threaded programming. These are:\\nrun(): It acts as the entry of the thread\\nstart(): is used for starting the thread by calling the run()\\nisAlive(): is used to verify whether the still executing or not\\ngetName(): is used for returning the name of a thread\\nsetName(): is used to set the name of the thread\\n'"
      ]
     },
     "execution_count": 2,
     "metadata": {},
     "output_type": "execute_result"
    }
   ],
   "source": [
    "'''Q1. What is multithreading in python? why is it used? Name the module used to handle threads in python.\n",
    "\n",
    "Multithreading is defined as the ability of a processor to execute multiple threads concurrently. \n",
    "In a simple, single-core CPU, it is achieved using frequent switching between threads. Multithreading \n",
    "mainly used for faster execution and multitasking.\n",
    "threading module is used for creating, controlling and managing threads in python.\n",
    "The threading module, has a Thread class that is used for implementing threads, and that class also contains some predefined methods used by programmers in multi-threaded programming. These are:\n",
    "run(): It acts as the entry of the thread\n",
    "start(): is used for starting the thread by calling the run()\n",
    "isAlive(): is used to verify whether the still executing or not\n",
    "getName(): is used for returning the name of a thread\n",
    "setName(): is used to set the name of the thread\n",
    "'''"
   ]
  },
  {
   "cell_type": "code",
   "execution_count": 3,
   "id": "b5a8f0e3-0eb3-4a04-a35b-d5b60484294f",
   "metadata": {},
   "outputs": [
    {
     "data": {
      "text/plain": [
       "\"Q2. Why threading module used? write the use of the following functions\\n\\nthreading module is used for creating, controlling and managing threads in python.\\n\\n activeCount() - Return the number of Thread objects currently alive.\\n currentThread() - It is an inbuilt method of the threading module, it is used to return the \\n                   current Thread object, which corresponds to the caller's thread of control.\\n enumerate() - The enumerate() function takes a collection (e.g. a tuple) and returns it as an enumerate object.\\n               The enumerate() function adds a counter as the key of the enumerate object.\\n               \""
      ]
     },
     "execution_count": 3,
     "metadata": {},
     "output_type": "execute_result"
    }
   ],
   "source": [
    "'''Q2. Why threading module used? write the use of the following functions\n",
    "\n",
    "threading module is used for creating, controlling and managing threads in python.\n",
    "\n",
    " activeCount() - Return the number of Thread objects currently alive.\n",
    " currentThread() - It is an inbuilt method of the threading module, it is used to return the \n",
    "                   current Thread object, which corresponds to the caller's thread of control.\n",
    " enumerate() - The enumerate() function takes a collection (e.g. a tuple) and returns it as an enumerate object.\n",
    "               The enumerate() function adds a counter as the key of the enumerate object.\n",
    "               '''"
   ]
  },
  {
   "cell_type": "code",
   "execution_count": 4,
   "id": "a8fb4584-f3e0-441f-a24d-755048b2bb3a",
   "metadata": {},
   "outputs": [
    {
     "data": {
      "text/plain": [
       "\"3. Explain the following functions\\n1.run - The Thread.run() method is an inbuilt method of the Thread class of the threading module , \\n        it is used to represent a thread's activity. It calls the method expressed as the target argument in the \\n        Thread object along with the positional and keyword arguments taken from the args and kwargs arguments, respectively. \\n        This method can also be overridden in the subclass.\\n2.start - The .start () method activates and prompts a thread object to be run.\\n3.join - The .join () is what causes the main thread to wait for your thread to finish. \\n4.isAlive - The .is_alive() method returns True if the thread is still running and False, otherwise.\""
      ]
     },
     "execution_count": 4,
     "metadata": {},
     "output_type": "execute_result"
    }
   ],
   "source": [
    "'''Q3. Explain the following functions\n",
    "1.run - The Thread.run() method is an inbuilt method of the Thread class of the threading module , \n",
    "        it is used to represent a thread's activity. It calls the method expressed as the target argument in the \n",
    "        Thread object along with the positional and keyword arguments taken from the args and kwargs arguments, respectively. \n",
    "        This method can also be overridden in the subclass.\n",
    "2.start - The .start () method activates and prompts a thread object to be run.\n",
    "3.join - The .join () is what causes the main thread to wait for your thread to finish. \n",
    "4.isAlive - The .is_alive() method returns True if the thread is still running and False, otherwise.'''"
   ]
  },
  {
   "cell_type": "code",
   "execution_count": 21,
   "id": "f3af1c53-72b2-46f3-84e5-7391e9f7b706",
   "metadata": {},
   "outputs": [],
   "source": [
    "'''Q4. Write a python program to create two threads. Thread one must print the list of squares and thread\n",
    "two must print the list of cubes. '''\n",
    "\n",
    "import threading\n",
    "\n",
    "def squares(n):\n",
    "     print(n**2)\n",
    "\n",
    "def cubes(n):\n",
    "    print(n**3)\n",
    "\n",
    "l = [1,2,3,4,5,6,7,8,9]\n",
    "\n",
    "s1 = [threading.Thread(target=squares,args=[i]) for i in l]\n",
    "s2 = [threading.Thread(target=cubes,args=[i])for i in l]\n",
    "\n"
   ]
  },
  {
   "cell_type": "code",
   "execution_count": 22,
   "id": "a8bf27c5-d3b1-402f-9b86-1fc4b3c83e18",
   "metadata": {},
   "outputs": [
    {
     "name": "stdout",
     "output_type": "stream",
     "text": [
      "1\n",
      "4\n",
      "9\n",
      "16\n",
      "25\n",
      "36\n",
      "49\n",
      "64\n",
      "81\n"
     ]
    }
   ],
   "source": [
    "for j in s1:\n",
    "    j.start()\n",
    "    j.join()\n"
   ]
  },
  {
   "cell_type": "code",
   "execution_count": 23,
   "id": "d7629a94-883e-4d86-a1ec-2adee4a80c1b",
   "metadata": {},
   "outputs": [
    {
     "name": "stdout",
     "output_type": "stream",
     "text": [
      "1\n",
      "8\n",
      "27\n",
      "64\n",
      "125\n",
      "216\n",
      "343\n",
      "512\n",
      "729\n"
     ]
    }
   ],
   "source": [
    "for j in s2:\n",
    "    j.start()\n",
    "    j.join()\n"
   ]
  },
  {
   "cell_type": "code",
   "execution_count": null,
   "id": "ea205364-4e29-4cbc-876f-7951f15576ed",
   "metadata": {},
   "outputs": [],
   "source": [
    "'''Q5. State advantages and disadvantages of multithreading.\n",
    "\n",
    "The advantages include:\n",
    "1. Since the threads are independent of each other, the user is not blocked.\n",
    "2. Since the threads do parallel execution, the resources of the device can be used efficiently.\n",
    "3. Enhance the performance of the multi-processor machines.\n",
    "4. Many of the GUIs and CPUs used in the current days include multithreading.\n",
    "\n",
    "The disadvantages are:\n",
    "1. The complexity increases with the increase in the number of threads\n",
    "2. It is necessary to maintain synchronization while sharing the resources among multiple threads\n",
    "3. It is difficult to debug the programs with threads as the result is sometimes unpredictable.\n",
    "4. The process of constructing and synchronizing the threads is CPU/memory intensive.\n",
    "'''"
   ]
  },
  {
   "cell_type": "code",
   "execution_count": null,
   "id": "4810a54b-e90d-484d-8875-f064c5b30d96",
   "metadata": {},
   "outputs": [],
   "source": [
    "'''Q6. Explain deadlocks and race conditions.\n",
    "\n",
    "1. deadlocks\n",
    "A lock occurs when multiple processes try to access the same resource at the same time.\n",
    "One process loses out and must wait for the other to finish.A deadlock occurs when the waiting process is still holding on to\n",
    "another resource that the first needs before it can finish.\n",
    "\n",
    "2. race conditions\n",
    "A race condition occurs when two or more threads can access shared data and they try to change it at the same time. Because the\n",
    "thread scheduling algorithm can swap between threads at any time, you don't know the order in which the threads will attempt to \n",
    "access the shared data. Therefore, the result of the change in data is dependent on the thread scheduling algorithm, i.e. both threads are \"racing\" to access/change the data."
   ]
  },
  {
   "cell_type": "code",
   "execution_count": null,
   "id": "9e5191d8-b680-4f8c-8078-635810fe6151",
   "metadata": {},
   "outputs": [],
   "source": []
  }
 ],
 "metadata": {
  "kernelspec": {
   "display_name": "Python 3 (ipykernel)",
   "language": "python",
   "name": "python3"
  },
  "language_info": {
   "codemirror_mode": {
    "name": "ipython",
    "version": 3
   },
   "file_extension": ".py",
   "mimetype": "text/x-python",
   "name": "python",
   "nbconvert_exporter": "python",
   "pygments_lexer": "ipython3",
   "version": "3.10.8"
  }
 },
 "nbformat": 4,
 "nbformat_minor": 5
}
